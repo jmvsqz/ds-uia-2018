{
 "cells": [
  {
   "cell_type": "markdown",
   "metadata": {},
   "source": [
    "# Notebook Reto 0\n",
    "\n",
    "## Instrucciones:\n",
    "\n",
    "\n",
    "### 1) Descargar el dataset: https://www.kaggle.com/c/titanic/data\n",
    "\n",
    "### 2) Responder las siguientes preguntas por medio de un analisis exploratorio: usa graficas, cortes, selecciones y todas las visualizaciones que consideres adecuadas. Para cualquier duda usa el canal de Slack\n",
    "\n",
    "\n",
    "__1.En que puerto embarcaron mas pasajeros?__\n",
    "\n",
    "__2.El costo del boleto (columna: 'Fare') tiene relacion con la supervivencia?__\n",
    "\n",
    "__3.Cuales son las distribuciones de las tarifas para los sobrevivientes y los que murieron?__\n",
    "\n",
    "__4.Cual es la tarifa promedio?__\n",
    "\n",
    "__5.Visualizar la distribucion de edades__\n",
    "\n",
    "__6.Que edad o grupo de edades tuvo mas sobrevivientes?__\n",
    "\n",
    "__7.Que edad o grupo de edades tuvo mas fallecidos?__\n",
    "\n",
    "__8.Cuantos pasajeros iban con familia?__\n",
    "\n",
    "__9.Cuantos pasajeros iban sin familia?__\n",
    "\n",
    "__10.El hecho de ir o no ir con familia estuvo relacionado con sobrevivir o no sobrevivir?__\n",
    "\n",
    "__11.Que porcentaje de hombres mayores de 18 anios sobrevivieron?__\n",
    "\n",
    "__12.Que porcentaje de mujeres mayores de 18 anios sobrevivieron?__\n",
    "\n",
    "\n",
    "\n",
    "### 3) Si tuvieras que predecir la supervivencia o no supervivencia del set de prueba, que columnas usarias?"
   ]
  },
  {
   "cell_type": "code",
   "execution_count": null,
   "metadata": {},
   "outputs": [],
   "source": [
    "#Imports van aqui\n",
    "import pandas as pd\n"
   ]
  },
  {
   "cell_type": "code",
   "execution_count": null,
   "metadata": {},
   "outputs": [],
   "source": [
    "#Cargar dataset titanic"
   ]
  },
  {
   "cell_type": "code",
   "execution_count": null,
   "metadata": {},
   "outputs": [],
   "source": [
    "#Cargar el set de train y el de test: \"test.csv\" \"train.csv\"\n",
    "titanic_df = pd.read_csv(\"../\")\n",
    "titanic_df2    = pd.read_csv(\"../\")"
   ]
  },
  {
   "cell_type": "code",
   "execution_count": null,
   "metadata": {},
   "outputs": [],
   "source": [
    "#Visualizar ambos dataframes"
   ]
  },
  {
   "cell_type": "code",
   "execution_count": null,
   "metadata": {},
   "outputs": [],
   "source": [
    "#Juntar los dos sets"
   ]
  },
  {
   "cell_type": "code",
   "execution_count": null,
   "metadata": {},
   "outputs": [],
   "source": [
    "#Quitar columnas no utiles para el analisis exploratorio: 'PassengerId','Name','Ticket'"
   ]
  },
  {
   "cell_type": "code",
   "execution_count": null,
   "metadata": {},
   "outputs": [],
   "source": [
    "#Rellenar CON SENTIDO los valores faltantes en las columnas correspondientes: 'Fare', 'Age', 'Cabin', etc.\n"
   ]
  },
  {
   "cell_type": "code",
   "execution_count": null,
   "metadata": {},
   "outputs": [],
   "source": [
    "#Realizar las manipulaciones necesarias para responder las preguntas exploratorias"
   ]
  }
 ],
 "metadata": {
  "kernelspec": {
   "display_name": "Python 3",
   "language": "python",
   "name": "python3"
  },
  "language_info": {
   "codemirror_mode": {
    "name": "ipython",
    "version": 3
   },
   "file_extension": ".py",
   "mimetype": "text/x-python",
   "name": "python",
   "nbconvert_exporter": "python",
   "pygments_lexer": "ipython3",
   "version": "3.6.3"
  }
 },
 "nbformat": 4,
 "nbformat_minor": 2
}
